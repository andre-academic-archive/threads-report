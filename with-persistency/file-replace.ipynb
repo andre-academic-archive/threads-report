{
 "cells": [
  {
   "cell_type": "markdown",
   "id": "49af4099",
   "metadata": {},
   "source": [
    "# Análise de Desempenho em Operações de Substituição de Texto: Threads vs. Execução Sequencial\n",
    "\n",
    "## Introdução\n",
    "\n",
    "A computação paralela, particularmente o uso de threads, tornou-se uma ferramenta essencial para otimizar tarefas intensivas em termos de processamento. Em linguagens como Python, onde a natureza interpretada pode apresentar limitações de desempenho, explorar o paralelismo pode oferecer benefícios significativos. No entanto, o ganho de desempenho depende da natureza da tarefa e da eficiência da implementação paralela.\n",
    "\n",
    "Neste experimento, vamos investigar o impacto do uso de múltiplas threads em uma operação comum: a substituição de texto em arquivos. Com base em textos gerados contendo variáveis em formato de template, avaliaremos as diferenças entre uma implementação sequencial e seu equivalente utilizando paralelismo.\n",
    "\n",
    "O objetivo é entender como diferentes quantidades de threads influenciam o desempenho e identificar possíveis gargalos."
   ]
  },
  {
   "cell_type": "markdown",
   "id": "18b89d8a",
   "metadata": {},
   "source": [
    "## Instalação e carregamento de dependências"
   ]
  },
  {
   "cell_type": "code",
   "execution_count": 1,
   "id": "c1863a95",
   "metadata": {},
   "outputs": [],
   "source": [
    "import tempfile\n",
    "import os\n",
    "import random\n",
    "import string\n",
    "import glob\n",
    "from threading import Thread, Semaphore"
   ]
  },
  {
   "cell_type": "code",
   "execution_count": 2,
   "id": "60904395",
   "metadata": {},
   "outputs": [],
   "source": [
    "def populate_file_with_random_content(filepath, file_size):\n",
    "    random_string = ''.join(random.choices(string.ascii_letters + string.digits, k=file_size))\n",
    "    with open(filepath, 'w') as f:\n",
    "        f.write(random_string)\n",
    "\n",
    "def create_temp_files(directory, num_files, file_size):\n",
    "    for i in range(num_files):\n",
    "        filepath = os.path.join(directory, f'temp_file_{i}')\n",
    "        populate_file_with_random_content(filepath, file_size)\n",
    "\n",
    "def replace_temp_file(filepath, file_size):\n",
    "    with open(filepath, 'r') as f:\n",
    "        _ = f.read()  # Keeping this useless code here to force IO action\n",
    "\n",
    "    populate_file_with_random_content(filepath, file_size)\n",
    "\n",
    "def replace_temp_files(directory, file_size):\n",
    "    for filepath in glob.glob(os.path.join(directory, '*')):\n",
    "        replace_temp_file(filepath, file_size)"
   ]
  },
  {
   "cell_type": "markdown",
   "id": "e1b0f622",
   "metadata": {},
   "source": [
    "## Definindo runner"
   ]
  },
  {
   "cell_type": "code",
   "execution_count": 3,
   "id": "e38be8ff",
   "metadata": {},
   "outputs": [],
   "source": [
    "semaphore = None\n",
    "\n",
    "class ReplaceFileThread(Thread):\n",
    "    __slots__ = (\"filepath\", \"file_size\")\n",
    "\n",
    "    def __init__(self, filepath, file_size):\n",
    "        super().__init__()\n",
    "        self.filepath = filepath\n",
    "        self.file_size = file_size\n",
    "\n",
    "    def run(self):\n",
    "        with semaphore:\n",
    "            replace_temp_file(self.filepath, self.file_size)"
   ]
  },
  {
   "cell_type": "code",
   "execution_count": 4,
   "id": "98bd7ec8",
   "metadata": {},
   "outputs": [],
   "source": [
    "def run_experiment(num_threads):\n",
    "    global semaphore\n",
    "    semaphore = Semaphore(num_threads)\n",
    "\n",
    "    with tempfile.TemporaryDirectory() as temp_dir:\n",
    "        create_temp_files(temp_dir, 256, 4096)\n",
    "\n",
    "        filepaths = glob.glob(os.path.join(temp_dir, '*'))\n",
    "\n",
    "        threads = [ReplaceFileThread(filepath, 2048) for filepath in filepaths]\n",
    "\n",
    "        for thread in threads:\n",
    "            thread.start()\n",
    "\n",
    "        for thread in threads:\n",
    "            thread.join()"
   ]
  },
  {
   "cell_type": "code",
   "execution_count": 5,
   "id": "4f9e215b",
   "metadata": {},
   "outputs": [
    {
     "name": "stdout",
     "output_type": "stream",
     "text": [
      "233 ms ± 20.3 ms per loop (mean ± std. dev. of 5 runs, 20 loops each)\n"
     ]
    }
   ],
   "source": [
    "%%timeit -r 5 -n 20\n",
    "\n",
    "run_experiment(1)"
   ]
  },
  {
   "cell_type": "code",
   "execution_count": 6,
   "id": "811055f4",
   "metadata": {},
   "outputs": [
    {
     "name": "stdout",
     "output_type": "stream",
     "text": [
      "273 ms ± 20.7 ms per loop (mean ± std. dev. of 5 runs, 20 loops each)\n"
     ]
    }
   ],
   "source": [
    "%%timeit -r 5 -n 20\n",
    "\n",
    "run_experiment(2)"
   ]
  },
  {
   "cell_type": "code",
   "execution_count": 7,
   "id": "8fe3aa53",
   "metadata": {},
   "outputs": [
    {
     "name": "stdout",
     "output_type": "stream",
     "text": [
      "278 ms ± 20.3 ms per loop (mean ± std. dev. of 5 runs, 20 loops each)\n"
     ]
    }
   ],
   "source": [
    "%%timeit -r 5 -n 20\n",
    "\n",
    "run_experiment(5)"
   ]
  },
  {
   "cell_type": "code",
   "execution_count": 8,
   "id": "c4a91fc1",
   "metadata": {},
   "outputs": [
    {
     "name": "stdout",
     "output_type": "stream",
     "text": [
      "223 ms ± 2.58 ms per loop (mean ± std. dev. of 5 runs, 20 loops each)\n"
     ]
    }
   ],
   "source": [
    "%%timeit -r 5 -n 20\n",
    "\n",
    "run_experiment(10)"
   ]
  },
  {
   "cell_type": "code",
   "execution_count": 9,
   "id": "c796da4c",
   "metadata": {},
   "outputs": [
    {
     "name": "stdout",
     "output_type": "stream",
     "text": [
      "220 ms ± 2.74 ms per loop (mean ± std. dev. of 5 runs, 20 loops each)\n"
     ]
    }
   ],
   "source": [
    "%%timeit -r 5 -n 20\n",
    "\n",
    "run_experiment(25)"
   ]
  },
  {
   "cell_type": "code",
   "execution_count": 10,
   "id": "6702b24a",
   "metadata": {},
   "outputs": [
    {
     "name": "stdout",
     "output_type": "stream",
     "text": [
      "253 ms ± 25.8 ms per loop (mean ± std. dev. of 5 runs, 20 loops each)\n"
     ]
    }
   ],
   "source": [
    "%%timeit -r 5 -n 20\n",
    "\n",
    "run_experiment(50)"
   ]
  },
  {
   "cell_type": "code",
   "execution_count": 11,
   "id": "0ec57459",
   "metadata": {},
   "outputs": [
    {
     "name": "stdout",
     "output_type": "stream",
     "text": [
      "261 ms ± 10.9 ms per loop (mean ± std. dev. of 5 runs, 20 loops each)\n"
     ]
    }
   ],
   "source": [
    "%%timeit -r 5 -n 20\n",
    "\n",
    "run_experiment(100)"
   ]
  }
 ],
 "metadata": {
  "kernelspec": {
   "display_name": "Python 3 (ipykernel)",
   "language": "python",
   "name": "python3"
  },
  "language_info": {
   "codemirror_mode": {
    "name": "ipython",
    "version": 3
   },
   "file_extension": ".py",
   "mimetype": "text/x-python",
   "name": "python",
   "nbconvert_exporter": "python",
   "pygments_lexer": "ipython3",
   "version": "3.11.5"
  }
 },
 "nbformat": 4,
 "nbformat_minor": 5
}
